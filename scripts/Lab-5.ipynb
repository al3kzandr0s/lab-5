{
 "cells": [
  {
   "cell_type": "code",
   "execution_count": null,
   "id": "849380c6-2afb-4ae8-8c51-ad2194b4dcd2",
   "metadata": {},
   "outputs": [],
   "source": [
    "from pyspark.sql import SparkSession\n",
    "from pyspark.sql.types import StructType, StructField, StringType, IntegerType, TimestampType, DoubleType\n",
    "from pyspark.sql import functions as sf\n",
    "\n",
    "path = \"/sparkdata/taxi.csv\"\n",
    "\n",
    "schema = StructType([\n",
    "  StructField('driver_name', StringType(), False),\n",
    "  StructField('client_name', StringType(), False),\n",
    "  StructField('start_point', StringType(), False),\n",
    "  StructField('end_point', StringType(), False),\n",
    "  StructField('start_time', TimestampType(), False),\n",
    "  StructField('end_time', TimestampType(), False),\n",
    "  StructField('cost', DoubleType(), False),\n",
    "  StructField('driver_rating', IntegerType(), True),\n",
    "  StructField('driver_feedback', StringType(), True),\n",
    "  StructField('driver_comment', StringType(), True),\n",
    "  StructField('client_rating', IntegerType(), True),\n",
    "  StructField('client_feedback', StringType(), True)\n",
    "])\n",
    "\n",
    "spark = SparkSession.builder.appName(\"Lab5\").getOrCreate()\n",
    "spark.sparkContext.setLogLevel(\"OFF\")\n",
    "\n",
    "df = spark.read.option(\"header\", True).schema(schema).csv(path)\n",
    "\n",
    "driver_income = df.select(\"driver_name\", \"cost\").groupBy(\"driver_name\").agg(sf.sum(\"cost\").alias(\"income\"))\n",
    "\n",
    "top_drivers = driver_income.orderBy(sf.col(\"income\").desc()).limit(100)\n",
    "\n",
    "top_drivers.show()\n",
    "\n",
    "print(top_drivers.collect())\n",
    "\n",
    "spark.stop()"
   ]
  }
 ],
 "metadata": {
  "kernelspec": {
   "display_name": "Python 3 (ipykernel)",
   "language": "python",
   "name": "python3"
  },
  "language_info": {
   "codemirror_mode": {
    "name": "ipython",
    "version": 3
   },
   "file_extension": ".py",
   "mimetype": "text/x-python",
   "name": "python",
   "nbconvert_exporter": "python",
   "pygments_lexer": "ipython3",
   "version": "3.11.6"
  }
 },
 "nbformat": 4,
 "nbformat_minor": 5
}
